{
 "cells": [
  {
   "cell_type": "code",
   "execution_count": 1,
   "id": "188bff5d",
   "metadata": {},
   "outputs": [],
   "source": [
    "import numpy as np"
   ]
  },
  {
   "cell_type": "code",
   "execution_count": 2,
   "id": "ebba3868",
   "metadata": {},
   "outputs": [],
   "source": [
    "from matplotlib import pyplot as plt"
   ]
  },
  {
   "cell_type": "code",
   "execution_count": 3,
   "id": "2f0f1d77",
   "metadata": {},
   "outputs": [],
   "source": [
    "import seaborn as sns"
   ]
  },
  {
   "cell_type": "code",
   "execution_count": 137,
   "id": "4892df24",
   "metadata": {},
   "outputs": [],
   "source": [
    "np.random.seed(437)"
   ]
  },
  {
   "cell_type": "code",
   "execution_count": 276,
   "id": "3edc84cc",
   "metadata": {},
   "outputs": [],
   "source": [
    "N=10000"
   ]
  },
  {
   "cell_type": "code",
   "execution_count": 277,
   "id": "4a582eae",
   "metadata": {},
   "outputs": [],
   "source": [
    "T3=30.0"
   ]
  },
  {
   "cell_type": "code",
   "execution_count": 278,
   "id": "5d223808",
   "metadata": {},
   "outputs": [],
   "source": [
    "T2=20.0"
   ]
  },
  {
   "cell_type": "code",
   "execution_count": 297,
   "id": "2dff5411",
   "metadata": {},
   "outputs": [],
   "source": [
    "NN=300"
   ]
  },
  {
   "cell_type": "code",
   "execution_count": 304,
   "id": "0042ce7b",
   "metadata": {},
   "outputs": [],
   "source": [
    "dt=T3/(NN+1)"
   ]
  },
  {
   "cell_type": "code",
   "execution_count": 305,
   "id": "8f7055fd",
   "metadata": {},
   "outputs": [
    {
     "name": "stdout",
     "output_type": "stream",
     "text": [
      "200\n"
     ]
    }
   ],
   "source": [
    "MM = int(T2/dt)\n",
    "print(MM)"
   ]
  },
  {
   "cell_type": "code",
   "execution_count": 306,
   "id": "91b5f50c",
   "metadata": {},
   "outputs": [],
   "source": [
    "i_bus = np.random.randint(0,MM,N)\n",
    "#bus=T3*np.random.random_sample(N)"
   ]
  },
  {
   "cell_type": "code",
   "execution_count": 307,
   "id": "833204f8",
   "metadata": {},
   "outputs": [
    {
     "data": {
      "text/plain": [
       "<AxesSubplot:ylabel='Count'>"
      ]
     },
     "execution_count": 307,
     "metadata": {},
     "output_type": "execute_result"
    },
    {
     "data": {
      "image/png": "[encoded data removed]",
      "text/plain": [
       "<Figure size 432x288 with 1 Axes>"
      ]
     },
     "metadata": {
      "needs_background": "light"
     },
     "output_type": "display_data"
    }
   ],
   "source": [
    "sns.histplot(data=i_bus,bins=2*MM)"
   ]
  },
  {
   "cell_type": "code",
   "execution_count": 308,
   "id": "9761cb2d",
   "metadata": {},
   "outputs": [],
   "source": [
    "i_me = np.random.randint(0,NN+1,N)\n",
    "#me=T3*np.random.random_sample(N)"
   ]
  },
  {
   "cell_type": "code",
   "execution_count": 309,
   "id": "5895442c",
   "metadata": {
    "scrolled": true
   },
   "outputs": [
    {
     "data": {
      "text/plain": [
       "<AxesSubplot:ylabel='Count'>"
      ]
     },
     "execution_count": 309,
     "metadata": {},
     "output_type": "execute_result"
    },
    {
     "data": {
      "image/png": "[encoded data removed]",
      "text/plain": [
       "<Figure size 432x288 with 1 Axes>"
      ]
     },
     "metadata": {
      "needs_background": "light"
     },
     "output_type": "display_data"
    }
   ],
   "source": [
    "sns.histplot(data=i_me,bins=2*(NN+1))"
   ]
  },
  {
   "cell_type": "code",
   "execution_count": 310,
   "id": "ec87e60e",
   "metadata": {},
   "outputs": [
    {
     "data": {
      "text/plain": [
       "(10000,)"
      ]
     },
     "execution_count": 310,
     "metadata": {},
     "output_type": "execute_result"
    }
   ],
   "source": [
    "i_me.shape"
   ]
  },
  {
   "cell_type": "code",
   "execution_count": 311,
   "id": "04955f50",
   "metadata": {},
   "outputs": [
    {
     "name": "stdout",
     "output_type": "stream",
     "text": [
      "1.0%\n",
      "2.0%\n",
      "3.0%\n",
      "4.0%\n",
      "5.0%\n",
      "6.0%\n",
      "7.0%\n",
      "8.0%\n",
      "9.0%\n",
      "10.0%\n",
      "11.0%\n",
      "12.0%\n",
      "13.0%\n",
      "14.0%\n",
      "15.0%\n",
      "16.0%\n",
      "17.0%\n",
      "18.0%\n",
      "19.0%\n",
      "20.0%\n",
      "21.0%\n",
      "22.0%\n",
      "23.0%\n",
      "24.0%\n",
      "25.0%\n",
      "26.0%\n",
      "27.0%\n",
      "28.0%\n",
      "29.0%\n",
      "30.0%\n",
      "31.0%\n",
      "32.0%\n",
      "33.0%\n",
      "34.0%\n",
      "35.0%\n",
      "36.0%\n",
      "37.0%\n",
      "38.0%\n",
      "39.0%\n",
      "40.0%\n",
      "41.0%\n",
      "42.0%\n",
      "43.0%\n",
      "44.0%\n",
      "45.0%\n",
      "46.0%\n",
      "47.0%\n",
      "48.0%\n",
      "49.0%\n",
      "50.0%\n",
      "51.0%\n",
      "52.0%\n",
      "53.0%\n",
      "54.0%\n",
      "55.0%\n",
      "56.0%\n",
      "57.0%\n",
      "58.0%\n",
      "59.0%\n",
      "60.0%\n",
      "61.0%\n",
      "62.0%\n",
      "63.0%\n",
      "64.0%\n",
      "65.0%\n",
      "66.0%\n",
      "67.0%\n",
      "68.0%\n",
      "69.0%\n",
      "70.0%\n",
      "71.0%\n",
      "72.0%\n",
      "73.0%\n",
      "74.0%\n",
      "75.0%\n",
      "76.0%\n",
      "77.0%\n",
      "78.0%\n",
      "79.0%\n",
      "80.0%\n",
      "81.0%\n",
      "82.0%\n",
      "83.0%\n",
      "84.0%\n",
      "85.0%\n",
      "86.0%\n",
      "87.0%\n",
      "88.0%\n",
      "89.0%\n",
      "90.0%\n",
      "91.0%\n",
      "92.0%\n",
      "93.0%\n",
      "94.0%\n",
      "95.0%\n",
      "96.0%\n",
      "97.0%\n",
      "98.0%\n",
      "99.0%\n",
      "100.0%\n"
     ]
    }
   ],
   "source": [
    "i_w=np.zeros((MM,),dtype=int)\n",
    "c=0\n",
    "for b in i_bus:\n",
    "    bb = (b+MM)\n",
    "    if bb > NN: bb = b - MM\n",
    "    for m in i_me:\n",
    "        #print(b,bb,\"me\",m)\n",
    "        t1=b-m\n",
    "        t2=bb-m\n",
    "        t3= NN+1-m if m else 0\n",
    "        #print(\":\",t1,t2,t3)\n",
    "        if t1>=0 and t2>=0: i_w[min(t1,t2,t3)]+=1\n",
    "        elif t2<0 and t1>=0: i_w[min(t1,t3)]+=1\n",
    "        elif t1<0 and t2>=0: i_w[min(t2,t3)]+=1\n",
    "        else: i_w[t3]+=1\n",
    "        c+=1\n",
    "    if c%1000000==0:\n",
    "        print(f'{c*100.0/(N**2)}'+'%')\n",
    "        #break"
   ]
  },
  {
   "cell_type": "code",
   "execution_count": 312,
   "id": "ecd79cd4",
   "metadata": {},
   "outputs": [],
   "source": [
    "wn=i_w/i_w.sum()"
   ]
  },
  {
   "cell_type": "code",
   "execution_count": 313,
   "id": "1ea40141",
   "metadata": {},
   "outputs": [
    {
     "data": {
      "text/plain": [
       "1.0"
      ]
     },
     "execution_count": 313,
     "metadata": {},
     "output_type": "execute_result"
    }
   ],
   "source": [
    "wn.sum()"
   ]
  },
  {
   "cell_type": "code",
   "execution_count": 314,
   "id": "84ecb115",
   "metadata": {},
   "outputs": [],
   "source": [
    "pk2 = [(NN+MM-2*k)/(MM*(NN+1)) for k in range(MM)]"
   ]
  },
  {
   "cell_type": "code",
   "execution_count": 315,
   "id": "55f615cf",
   "metadata": {},
   "outputs": [
    {
     "data": {
      "text/plain": [
       "[<matplotlib.lines.Line2D at 0x1a4db0f5040>]"
      ]
     },
     "execution_count": 315,
     "metadata": {},
     "output_type": "execute_result"
    },
    {
     "data": {
      "image/png": "[encoded data removed]",
      "text/plain": [
       "<Figure size 432x288 with 1 Axes>"
      ]
     },
     "metadata": {
      "needs_background": "light"
     },
     "output_type": "display_data"
    }
   ],
   "source": [
    "plt.xlabel(\"k\")\n",
    "plt.ylabel(r\"$\\dot{p}(k)$\")\n",
    "plt.plot(pk2)\n",
    "plt.plot(wn)"
   ]
  },
  {
   "cell_type": "code",
   "execution_count": 316,
   "id": "2817ad38",
   "metadata": {},
   "outputs": [],
   "source": [
    "ti =np.array([i*dt for i in range(MM)])"
   ]
  },
  {
   "cell_type": "code",
   "execution_count": 317,
   "id": "70b5e668",
   "metadata": {},
   "outputs": [],
   "source": [
    "tmean=(wn*ti).sum()"
   ]
  },
  {
   "cell_type": "code",
   "execution_count": 318,
   "id": "36fc9d6a",
   "metadata": {},
   "outputs": [
    {
     "data": {
      "text/plain": [
       "[<matplotlib.lines.Line2D at 0x1a4db1c7490>]"
      ]
     },
     "execution_count": 318,
     "metadata": {},
     "output_type": "execute_result"
    },
    {
     "data": {
      "image/png": "[encoded data removed]",
      "text/plain": [
       "<Figure size 360x360 with 1 Axes>"
      ]
     },
     "metadata": {
      "needs_background": "light"
     },
     "output_type": "display_data"
    }
   ],
   "source": [
    "plt.figure(figsize=(5,5))\n",
    "plt.title(f\"mean waiting ~ {tmean:4.4} min.\")\n",
    "plt.xlabel(r\"$t_{wait}, min$\")\n",
    "plt.ylabel(r\"$\\frac{\\Delta p}{\\Delta t}(t_{wait})$\")\n",
    "plt.plot(ti,pk2)\n",
    "plt.plot(ti,wn)"
   ]
  },
  {
   "cell_type": "code",
   "execution_count": 319,
   "id": "1b2c8325",
   "metadata": {},
   "outputs": [
    {
     "data": {
      "text/plain": [
       "7.709517554993875"
      ]
     },
     "execution_count": 319,
     "metadata": {},
     "output_type": "execute_result"
    }
   ],
   "source": [
    "(pk2*ti).sum()"
   ]
  },
  {
   "cell_type": "code",
   "execution_count": null,
   "id": "46526558",
   "metadata": {},
   "outputs": [],
   "source": []
  }
 ],
 "metadata": {
  "kernelspec": {
   "display_name": "Python 3",
   "language": "python",
   "name": "python3"
  },
  "language_info": {
   "codemirror_mode": {
    "name": "ipython",
    "version": 3
   },
   "file_extension": ".py",
   "mimetype": "text/x-python",
   "name": "python",
   "nbconvert_exporter": "python",
   "pygments_lexer": "ipython3",
   "version": "3.9.4"
  }
 },
 "nbformat": 4,
 "nbformat_minor": 5
}
